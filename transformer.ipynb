{
 "cells": [
  {
   "cell_type": "markdown",
   "metadata": {},
   "source": [
    "# Transformers\n",
    "\n",
    "Students: Jose Pujol (6293900), Jacob Schuster (6348823)"
   ]
  },
  {
   "cell_type": "code",
   "execution_count": 6,
   "metadata": {},
   "outputs": [],
   "source": [
    "#RESOURCES\n",
    "#https://github.com/jongwooko/Pytorch-MiniLM\n",
    "#https://github.com/graykode/ALBERT-Pytorch/blob/master/models.py\n",
    "#https://github.com/dhlee347/pytorchic-bert "
   ]
  },
  {
   "cell_type": "code",
   "execution_count": 2,
   "metadata": {},
   "outputs": [
    {
     "name": "stdout",
     "output_type": "stream",
     "text": [
      "Hello World!\n"
     ]
    }
   ],
   "source": [
    "print(\"Hello World!\")"
   ]
  },
  {
   "cell_type": "code",
   "execution_count": 7,
   "metadata": {},
   "outputs": [
    {
     "name": "stderr",
     "output_type": "stream",
     "text": [
      "/Users/jacob/Documents/transformer-paper-cluster/venv/lib/python3.11/site-packages/tqdm/auto.py:21: TqdmWarning: IProgress not found. Please update jupyter and ipywidgets. See https://ipywidgets.readthedocs.io/en/stable/user_install.html\n",
      "  from .autonotebook import tqdm as notebook_tqdm\n"
     ]
    }
   ],
   "source": [
    "from transformers import AlbertConfig, AlbertModel\n",
    "\n",
    "# Initializing an ALBERT-xxlarge style configuration\n",
    "albert_xxlarge_configuration = AlbertConfig()\n",
    "\n",
    "# Initializing an ALBERT-base style configuration\n",
    "albert_base_configuration = AlbertConfig(\n",
    "    hidden_size=768,\n",
    "    num_attention_heads=12,\n",
    "    intermediate_size=3072,\n",
    ")\n",
    "\n",
    "# Initializing a model (with random weights) from the ALBERT-base style configuration\n",
    "model = AlbertModel(albert_xxlarge_configuration)\n",
    "\n",
    "# Accessing the model configuration\n",
    "configuration = model.config"
   ]
  },
  {
   "cell_type": "code",
   "execution_count": null,
   "metadata": {},
   "outputs": [],
   "source": [
    "#export huggingface to onnx\n",
    "#https://huggingface.co/transformers/serialization.html#pytorch-transformers-to-onnx\n"
   ]
  }
 ],
 "metadata": {
  "kernelspec": {
   "display_name": "venv",
   "language": "python",
   "name": "python3"
  },
  "language_info": {
   "codemirror_mode": {
    "name": "ipython",
    "version": 3
   },
   "file_extension": ".py",
   "mimetype": "text/x-python",
   "name": "python",
   "nbconvert_exporter": "python",
   "pygments_lexer": "ipython3",
   "version": "3.11.3"
  }
 },
 "nbformat": 4,
 "nbformat_minor": 2
}
